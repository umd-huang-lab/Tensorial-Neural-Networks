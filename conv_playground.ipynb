{
 "cells": [
  {
   "cell_type": "code",
   "execution_count": 2,
   "metadata": {},
   "outputs": [],
   "source": [
    "import numpy as np\n",
    "import opt_einsum"
   ]
  },
  {
   "cell_type": "code",
   "execution_count": 3,
   "metadata": {},
   "outputs": [
    {
     "name": "stdout",
     "output_type": "stream",
     "text": [
      "  Complete contraction:  ijk,jl,lmq,njpq->ijknp|j\n",
      "         Naive scaling:  8\n",
      "     Optimized scaling:  5\n",
      "      Naive FLOP count:  4.212e+05\n",
      "  Optimized FLOP count:  2.056e+05\n",
      "   Theoretical speedup:  2.049e+00\n",
      "  Largest intermediate:  1.944e+05 elements\n",
      "--------------------------------------------------------------------------------\n",
      "scaling        BLAS                current                             remaining\n",
      "--------------------------------------------------------------------------------\n",
      "   4              0             lmq,jl->qj                  ijk,njpq,qj->ijknp|j\n",
      "   4              0           qj,njpq->jnp                      ijk,jnp->ijknp|j\n",
      "   5              0         jnp,ijk->ijknp                        ijknp->ijknp|j\n"
     ]
    }
   ],
   "source": [
    "#Random_play \n",
    "A=np.random.rand(4,7,9)\n",
    "B=np.random.rand(10,5)\n",
    "C=np.random.rand(5,4,2)\n",
    "D=np.random.rand(6,8,9,2)\n",
    "path_info = opt_einsum.contract_path(\"ijk,jl,lmq, njpq->ijknp|j\", A, B, C, D)\n",
    "print(path_info[1])"
   ]
  },
  {
   "cell_type": "markdown",
   "metadata": {},
   "source": [
    "## ResNet34 FLOPs study"
   ]
  },
  {
   "cell_type": "code",
   "execution_count": 9,
   "metadata": {},
   "outputs": [
    {
     "name": "stdout",
     "output_type": "stream",
     "text": [
      "  Complete contraction:  bshw,rt,rs,rh,rw->bthw|h,w\n",
      "         Naive scaling:  6\n",
      "     Optimized scaling:  5\n",
      "      Naive FLOP count:  1.509e+14\n",
      "  Optimized FLOP count:  3.867e+12\n",
      "   Theoretical speedup:  3.903e+01\n",
      "  Largest intermediate:  1.289e+12 elements\n",
      "--------------------------------------------------------------------------------\n",
      "scaling        BLAS                current                             remaining\n",
      "--------------------------------------------------------------------------------\n",
      "   3              0             rh,rs->rhs              bshw,rt,rw,rhs->bthw|h,w\n",
      "   4              0           rhs,rw->rhsw                bshw,rt,rhsw->bthw|h,w\n",
      "   5           GEMM          rhsw,rt->hswt                   bshw,hswt->bthw|h,w\n",
      "   5              0        hswt,bshw->bthw                        bthw->bthw|h,w\n"
     ]
    }
   ],
   "source": [
    "#First layer conv1\n",
    "X=np.random.rand(128,3,112,112)\n",
    "W1=np.random.rand(116,64)\n",
    "W2=np.random.rand(116,3)\n",
    "W3=np.random.rand(116,7)\n",
    "W4=np.random.rand(116,7)\n",
    "path_info = opt_einsum.contract_path(\"bshw,rt,rs,rh,rw->bthw|h,w\", X, W1, W2, W3, W4)\n",
    "print(path_info[1])\n",
    "\n",
    "#Skip max-pooling, it's a negligible cost. "
   ]
  },
  {
   "cell_type": "code",
   "execution_count": 14,
   "metadata": {},
   "outputs": [
    {
     "name": "stdout",
     "output_type": "stream",
     "text": [
      "  Complete contraction:  bshw,rt,rs,rh,rw->bthw|h,w\n",
      "         Naive scaling:  6\n",
      "     Optimized scaling:  5\n",
      "      Naive FLOP count:  2.294e+13\n",
      "  Optimized FLOP count:  5.156e+12\n",
      "   Theoretical speedup:  4.450e+00\n",
      "  Largest intermediate:  8.056e+10 elements\n",
      "--------------------------------------------------------------------------------\n",
      "scaling        BLAS                current                             remaining\n",
      "--------------------------------------------------------------------------------\n",
      "   3              0             rh,rt->rht              bshw,rs,rw,rht->bthw|h,w\n",
      "   3              0             rw,rs->rws                bshw,rht,rws->bthw|h,w\n",
      "   5           GEMM          rws,rht->wsht                   bshw,wsht->bthw|h,w\n",
      "   5              0        wsht,bshw->bthw                        bthw->bthw|h,w\n"
     ]
    }
   ],
   "source": [
    "#Second block conv_2x\n",
    "#Single layer (implicitly include downsampling)\n",
    "X=np.random.rand(128,64,56,56)\n",
    "W1=np.random.rand(269,64)\n",
    "W2=np.random.rand(269,64)\n",
    "W3=np.random.rand(269,3)\n",
    "W4=np.random.rand(269,3)\n",
    "path_info = opt_einsum.contract_path(\"bshw,rt,rs,rh,rw->bthw|h,w\", X, W1, W2, W3, W4)\n",
    "print(path_info[1])\n",
    "#Multiply results by 6. "
   ]
  },
  {
   "cell_type": "code",
   "execution_count": 17,
   "metadata": {},
   "outputs": [
    {
     "name": "stdout",
     "output_type": "stream",
     "text": [
      "  Complete contraction:  bshw,rt,rs,rh,rw->bthw|h,w\n",
      "         Naive scaling:  6\n",
      "     Optimized scaling:  5\n",
      "      Naive FLOP count:  4.492e+12\n",
      "  Optimized FLOP count:  6.445e+11\n",
      "   Theoretical speedup:  6.969e+00\n",
      "  Largest intermediate:  1.007e+10 elements\n",
      "--------------------------------------------------------------------------------\n",
      "scaling        BLAS                current                             remaining\n",
      "--------------------------------------------------------------------------------\n",
      "   3              0             rh,rt->rht              bshw,rs,rw,rht->bthw|h,w\n",
      "   3              0             rw,rs->rws                bshw,rht,rws->bthw|h,w\n",
      "   5           GEMM          rws,rht->wsht                   bshw,wsht->bthw|h,w\n",
      "   5              0        wsht,bshw->bthw                        bthw->bthw|h,w\n"
     ]
    }
   ],
   "source": [
    "#Third block conv_3x\n",
    "#First layer downsample\n",
    "X=np.random.rand(128,64,28,28)\n",
    "W1=np.random.rand(372,128)\n",
    "W2=np.random.rand(372,64)\n",
    "W3=np.random.rand(372,3)\n",
    "W4=np.random.rand(372,3)\n",
    "path_info = opt_einsum.contract_path(\"bshw,rt,rs,rh,rw->bthw|h,w\", X, W1, W2, W3, W4)\n",
    "print(path_info[1])"
   ]
  },
  {
   "cell_type": "code",
   "execution_count": 18,
   "metadata": {},
   "outputs": [
    {
     "name": "stdout",
     "output_type": "stream",
     "text": [
      "  Complete contraction:  bshw,rt,rs,rh,rw->bthw|h,w\n",
      "         Naive scaling:  6\n",
      "     Optimized scaling:  5\n",
      "      Naive FLOP count:  7.710e+12\n",
      "  Optimized FLOP count:  1.289e+12\n",
      "   Theoretical speedup:  5.981e+00\n",
      "  Largest intermediate:  1.007e+10 elements\n",
      "--------------------------------------------------------------------------------\n",
      "scaling        BLAS                current                             remaining\n",
      "--------------------------------------------------------------------------------\n",
      "   3              0             rh,rt->rht              bshw,rs,rw,rht->bthw|h,w\n",
      "   3              0             rw,rs->rws                bshw,rht,rws->bthw|h,w\n",
      "   5           GEMM          rws,rht->wsht                   bshw,wsht->bthw|h,w\n",
      "   5              0        wsht,bshw->bthw                        bthw->bthw|h,w\n"
     ]
    }
   ],
   "source": [
    "#Third Block\n",
    "#Single non-downsampling layer\n",
    "X=np.random.rand(128,128,28,28)\n",
    "W1=np.random.rand(562,128)\n",
    "W2=np.random.rand(562,128)\n",
    "W3=np.random.rand(562,3)\n",
    "W4=np.random.rand(562,3)\n",
    "path_info = opt_einsum.contract_path(\"bshw,rt,rs,rh,rw->bthw|h,w\", X, W1, W2, W3, W4)\n",
    "print(path_info[1])\n",
    "#Multiply result x7 and add to cost of the downsample layer. "
   ]
  },
  {
   "cell_type": "code",
   "execution_count": 19,
   "metadata": {},
   "outputs": [
    {
     "name": "stdout",
     "output_type": "stream",
     "text": [
      "  Complete contraction:  bshw,rt,rs,rh,rw->bthw|h,w\n",
      "         Naive scaling:  6\n",
      "     Optimized scaling:  5\n",
      "      Naive FLOP count:  2.263e+12\n",
      "  Optimized FLOP count:  1.614e+11\n",
      "   Theoretical speedup:  1.402e+01\n",
      "  Largest intermediate:  1.259e+09 elements\n",
      "--------------------------------------------------------------------------------\n",
      "scaling        BLAS                current                             remaining\n",
      "--------------------------------------------------------------------------------\n",
      "   3              0             rh,rt->rht              bshw,rs,rw,rht->bthw|h,w\n",
      "   3              0             rw,rs->rws                bshw,rht,rws->bthw|h,w\n",
      "   5           GEMM          rws,rht->wsht                   bshw,wsht->bthw|h,w\n",
      "   5              0        wsht,bshw->bthw                        bthw->bthw|h,w\n"
     ]
    }
   ],
   "source": [
    "#Fourth block\n",
    "#First layer downsample\n",
    "X=np.random.rand(128,128,14,14)\n",
    "W1=np.random.rand(756,256)\n",
    "W2=np.random.rand(756,128)\n",
    "W3=np.random.rand(756,3)\n",
    "W4=np.random.rand(756,3)\n",
    "path_info = opt_einsum.contract_path(\"bshw,rt,rs,rh,rw->bthw|h,w\", X, W1, W2, W3, W4)\n",
    "print(path_info[1])"
   ]
  },
  {
   "cell_type": "code",
   "execution_count": 20,
   "metadata": {},
   "outputs": [
    {
     "name": "stdout",
     "output_type": "stream",
     "text": [
      "  Complete contraction:  bshw,rt,rs,rh,rw->bthw|h,w\n",
      "         Naive scaling:  6\n",
      "     Optimized scaling:  5\n",
      "      Naive FLOP count:  5.277e+12\n",
      "  Optimized FLOP count:  3.229e+11\n",
      "   Theoretical speedup:  1.634e+01\n",
      "  Largest intermediate:  1.259e+09 elements\n",
      "--------------------------------------------------------------------------------\n",
      "scaling        BLAS                current                             remaining\n",
      "--------------------------------------------------------------------------------\n",
      "   3              0             rh,rt->rht              bshw,rs,rw,rht->bthw|h,w\n",
      "   3              0             rw,rs->rws                bshw,rht,rws->bthw|h,w\n",
      "   5           GEMM          rws,rht->wsht                   bshw,wsht->bthw|h,w\n",
      "   5              0        wsht,bshw->bthw                        bthw->bthw|h,w\n"
     ]
    }
   ],
   "source": [
    "#Fourth block conv_4x\n",
    "#Single non-downsampling layer\n",
    "X=np.random.rand(128,256,14,14)\n",
    "W1=np.random.rand(1138,256)\n",
    "W2=np.random.rand(1138,256)\n",
    "W3=np.random.rand(1138,3)\n",
    "W4=np.random.rand(1138,3)\n",
    "path_info = opt_einsum.contract_path(\"bshw,rt,rs,rh,rw->bthw|h,w\", X, W1, W2, W3, W4)\n",
    "print(path_info[1])\n",
    "#Multiply result by 11 and add to downsampling cost. "
   ]
  },
  {
   "cell_type": "code",
   "execution_count": 21,
   "metadata": {},
   "outputs": [
    {
     "name": "stdout",
     "output_type": "stream",
     "text": [
      "  Complete contraction:  bshw,rt,rs,rh,rw->bthw|h,w\n",
      "         Naive scaling:  6\n",
      "     Optimized scaling:  5\n",
      "      Naive FLOP count:  2.780e+12\n",
      "  Optimized FLOP count:  4.208e+10\n",
      "   Theoretical speedup:  6.605e+01\n",
      "  Largest intermediate:  1.574e+08 elements\n",
      "--------------------------------------------------------------------------------\n",
      "scaling        BLAS                current                             remaining\n",
      "--------------------------------------------------------------------------------\n",
      "   3              0             rh,rt->rht              bshw,rs,rw,rht->bthw|h,w\n",
      "   3              0             rw,rs->rws                bshw,rht,rws->bthw|h,w\n",
      "   5           GEMM          rws,rht->wsht                   bshw,wsht->bthw|h,w\n",
      "   5              0        wsht,bshw->bthw                        bthw->bthw|h,w\n"
     ]
    }
   ],
   "source": [
    "#Fifth block conv_5x\n",
    "#First layer downsample\n",
    "X=np.random.rand(128,256,7,7)\n",
    "W1=np.random.rand(1524,512)\n",
    "W2=np.random.rand(1524,256)\n",
    "W3=np.random.rand(1524,3)\n",
    "W4=np.random.rand(1524,3)\n",
    "path_info = opt_einsum.contract_path(\"bshw,rt,rs,rh,rw->bthw|h,w\", X, W1, W2, W3, W4)\n",
    "print(path_info[1])"
   ]
  },
  {
   "cell_type": "code",
   "execution_count": 22,
   "metadata": {},
   "outputs": [
    {
     "name": "stdout",
     "output_type": "stream",
     "text": [
      "  Complete contraction:  bshw,rt,rs,rh,rw->bthw|h,w\n",
      "         Naive scaling:  6\n",
      "     Optimized scaling:  5\n",
      "      Naive FLOP count:  7.942e+12\n",
      "  Optimized FLOP count:  8.597e+10\n",
      "   Theoretical speedup:  9.238e+01\n",
      "  Largest intermediate:  1.574e+08 elements\n",
      "--------------------------------------------------------------------------------\n",
      "scaling        BLAS                current                             remaining\n",
      "--------------------------------------------------------------------------------\n",
      "   3              0             rh,rt->rht              bshw,rs,rw,rht->bthw|h,w\n",
      "   3              0             rw,rs->rws                bshw,rht,rws->bthw|h,w\n",
      "   5           GEMM          rws,rht->wsht                   bshw,wsht->bthw|h,w\n",
      "   5              0        wsht,bshw->bthw                        bthw->bthw|h,w\n"
     ]
    }
   ],
   "source": [
    "#Fifth block conv_5x\n",
    "#Single non-downsampling layer\n",
    "X=np.random.rand(128,512,7,7)\n",
    "W1=np.random.rand(2290,512)\n",
    "W2=np.random.rand(2290,512)\n",
    "W3=np.random.rand(2290,3)\n",
    "W4=np.random.rand(2290,3)\n",
    "path_info = opt_einsum.contract_path(\"bshw,rt,rs,rh,rw->bthw|h,w\", X, W1, W2, W3, W4)\n",
    "print(path_info[1])\n",
    "#Multiply result by 5 and add to downsampling cost. "
   ]
  },
  {
   "cell_type": "code",
   "execution_count": null,
   "metadata": {},
   "outputs": [],
   "source": []
  }
 ],
 "metadata": {
  "kernelspec": {
   "display_name": "Python 3 (ipykernel)",
   "language": "python",
   "name": "python3"
  },
  "language_info": {
   "codemirror_mode": {
    "name": "ipython",
    "version": 3
   },
   "file_extension": ".py",
   "mimetype": "text/x-python",
   "name": "python",
   "nbconvert_exporter": "python",
   "pygments_lexer": "ipython3",
   "version": "3.8.3"
  }
 },
 "nbformat": 4,
 "nbformat_minor": 4
}
